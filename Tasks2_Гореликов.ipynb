{
 "cells": [
  {
   "cell_type": "markdown",
   "id": "arctic-stocks",
   "metadata": {},
   "source": [
    "### Задание №1\n",
    "Массив A состоит из целых положительных чисел длин отрезков. Составьте из трех отрезков такой треугольник, чтобы его периметр был максимально возможным. Если невозможно составить треугольник с положительной площадью функция возвращает 0."
   ]
  },
  {
   "cell_type": "code",
   "execution_count": 2,
   "id": "caring-truck",
   "metadata": {
    "scrolled": false
   },
   "outputs": [
    {
     "name": "stdout",
     "output_type": "stream",
     "text": [
      "25 20 15\n",
      "60\n"
     ]
    }
   ],
   "source": [
    "import random\n",
    "arr=[20,10,5,15,25]\n",
    "arr.sort(reverse=True)\n",
    "p=0\n",
    "for i in range(2,len(arr)-1):\n",
    "    if arr[i-2]+arr[i-1]>arr[i] and arr[i-2]+arr[i]>arr[i-1] and arr[i]+arr[i-1]>arr[i-2]:\n",
    "        p=arr[i-2]+arr[i-1]+arr[i]\n",
    "        print(arr[i-2], arr[i-1], arr[i])\n",
    "        break\n",
    "    else:\n",
    "        arr=arr[i-1:]\n",
    "print(p)"
   ]
  },
  {
   "cell_type": "markdown",
   "id": "maritime-conversation",
   "metadata": {},
   "source": [
    "### Задание №2\n",
    "Дан массив неотрицательных целых чисел nums. Расположите их в таком порядке, чтобы вместе они образовали максимально возможное число. Замечание: Результат может быть очень большим числом, поэтому представьте его как string, а не integer."
   ]
  },
  {
   "cell_type": "code",
   "execution_count": 3,
   "id": "alert-charm",
   "metadata": {
    "scrolled": false
   },
   "outputs": [
    {
     "name": "stdout",
     "output_type": "stream",
     "text": [
      "43332\n"
     ]
    }
   ],
   "source": [
    "nums = [3, 2, 3, 43]\n",
    "a = nums\n",
    "for j in range(0, len(a)-1):\n",
    "    for i in range(0, len(a) - 1):\n",
    "        if int(str(a[i+1])) > int(str(a[i])):\n",
    "            t = a[i+1]\n",
    "            a[i + 1] = a[i]\n",
    "            a[i] = t\n",
    "        for k in range(1, min(len(str(a[i + 1])), len(str(a[i])))):\n",
    "            if (int(str(a[i+1])) == int(str(a[i]))) & (int(str(a[i + 1])[k]) >= int(str(a[i])[k])):\n",
    "                t = a[i+1]\n",
    "                a[i + 1] = a[i]\n",
    "                a[i] = t\n",
    "ans = \"\"\n",
    "for i in range(0, len(a)):\n",
    "    ans += str(a[i])\n",
    "print (ans)"
   ]
  },
  {
   "cell_type": "markdown",
   "id": "catholic-roots",
   "metadata": {},
   "source": [
    "### Задание №3\n",
    "Дана матрица mat размером m * n, значения целочисленные. Напишите функцию, сортирующую каждую диагональ матрицы по возрастанию и возвращающую получившуюся матрицу."
   ]
  },
  {
   "cell_type": "code",
   "execution_count": 5,
   "id": "cleared-anniversary",
   "metadata": {
    "scrolled": false
   },
   "outputs": [
    {
     "name": "stdout",
     "output_type": "stream",
     "text": [
      "7 2 9 \n",
      "1 2 1 \n",
      "6 4 0 \n",
      "\n",
      "0 1 9 \n",
      "1 2 2 \n",
      "6 4 7 \n"
     ]
    }
   ],
   "source": [
    "#вывод матрицы\n",
    "def printmatrix(matrix):\n",
    "    for i in range(len(matrix)): \n",
    "        for j in range(len(matrix[i])):\n",
    "            print(matrix[i][j], end=\" \")\n",
    "        print()\n",
    "        \n",
    "#сортировка матрицы\n",
    "def sortdmatrix(matrix):\n",
    "    # Печатаем матрицу кторая пришла\n",
    "    printmatrix(matrix)\n",
    "    print()\n",
    "    # Ширина матрицы\n",
    "    w = len(matrix[0])\n",
    "    # Высота матрицы\n",
    "    h = len(matrix)\n",
    "    \n",
    "    #массив для всех значений в матрице, где у каждого будет ссылка на диагональ к которой он принадлежит \n",
    "    arrWithAllElem = [-1] * w * h\n",
    "    # Проход по матрице\n",
    "    for i in range(len(matrix)): \n",
    "        for j in range(len(matrix[i])):\n",
    "            if (arrWithAllElem[j + i * w] == -1):\n",
    "                arrWithAllElem[j + i * w] = []\n",
    "                thisDiagArr = [[i + offset, j + offset, (j+ offset) + (i + offset) * w] for offset in range(min([w,h])) if ((j + offset < w) and (i + offset < h))]\n",
    "                \n",
    "                for k in range(len(thisDiagArr)):\n",
    "                    arrWithAllElem[j + i * w].append(matrix[thisDiagArr[k][0]][thisDiagArr[k][1]])\n",
    "                    if (arrWithAllElem[thisDiagArr[k][2]] == -1):\n",
    "                        arrWithAllElem[thisDiagArr[k][2]] = arrWithAllElem[j + i * w]\n",
    "                arrWithAllElem[j + i * w].sort()\n",
    "    \n",
    "    sortedmatrix = [[0] * w for i in range(h)]\n",
    "    for i in range(len(arrWithAllElem)):\n",
    "        sortedmatrix[i//w][i%w] = arrWithAllElem[i][0];\n",
    "        arrWithAllElem[i].remove(arrWithAllElem[i][0]);\n",
    "    return sortedmatrix\n",
    "    \n",
    "\n",
    "        \n",
    "printmatrix(sortdmatrix([[7, 2, 9], [1, 2, 1], [6, 4, 0]]\n",
    "))"
   ]
  },
  {
   "cell_type": "code",
   "execution_count": null,
   "id": "50ccd2bf",
   "metadata": {},
   "outputs": [],
   "source": []
  }
 ],
 "metadata": {
  "kernelspec": {
   "display_name": "Python 3 (ipykernel)",
   "language": "python",
   "name": "python3"
  },
  "language_info": {
   "codemirror_mode": {
    "name": "ipython",
    "version": 3
   },
   "file_extension": ".py",
   "mimetype": "text/x-python",
   "name": "python",
   "nbconvert_exporter": "python",
   "pygments_lexer": "ipython3",
   "version": "3.9.7"
  }
 },
 "nbformat": 4,
 "nbformat_minor": 5
}
